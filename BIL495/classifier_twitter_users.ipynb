{
 "cells": [
  {
   "cell_type": "code",
   "execution_count": 1,
   "metadata": {},
   "outputs": [],
   "source": [
    "# -*- unicode: utf-8 -*-\n",
    "from __future__ import division\n",
    "import os \n",
    "import json\n",
    "import math\n",
    "\n",
    "from time import time\n",
    "from sklearn import metrics\n",
    "from sklearn.utils.extmath import density\n",
    "import mysql.connector\n",
    "import pickle"
   ]
  },
  {
   "cell_type": "code",
   "execution_count": 2,
   "metadata": {},
   "outputs": [],
   "source": [
    "if os.name is 'nt':\n",
    "    followers_path = os.getcwd() + '\\\\dataSets\\\\tweets\\\\followers.sql'\n",
    "    config_my_sql ={\n",
    "        'user': 'root',\n",
    "        'password': 'root$468',\n",
    "        'host' : '127.0.0.1',\n",
    "        'database': 'twitters'\n",
    "    }\n",
    "elif os.name is 'posix':\n",
    "    config_my_sql = {\n",
    "        'user': 'root',\n",
    "        'password': 'root$468',\n",
    "        'host' : '127.0.0.1',\n",
    "        'database': 'twitters'\n",
    "    }\n",
    "    followers_path = os.getcwd() + '/dataSets/tweets/followers.sql'\n",
    "\n",
    "\n",
    "vector_input_file_name = \"tweets_vectors.pickle\"    \n",
    "user_ids_file_name = \"user_ids.pickle\"\n"
   ]
  },
  {
   "cell_type": "code",
   "execution_count": 3,
   "metadata": {},
   "outputs": [
    {
     "data": {
      "text/plain": [
       "'/Users/gurol/Google Drive/lessons2017/Lessons/Bil495/Codes/BIL495/dataSets/tweets/followers.sql'"
      ]
     },
     "execution_count": 3,
     "metadata": {},
     "output_type": "execute_result"
    }
   ],
   "source": [
    "followers_path"
   ]
  },
  {
   "cell_type": "code",
   "execution_count": 4,
   "metadata": {},
   "outputs": [],
   "source": [
    "# connection to mysql database\n",
    "def connection_to_database():\n",
    "    cnx = mysql.connector.connect(**config_my_sql)\n",
    "    cursor = cnx.cursor()\n",
    "\n",
    "    return cnx, cursor"
   ]
  },
  {
   "cell_type": "code",
   "execution_count": 5,
   "metadata": {},
   "outputs": [],
   "source": [
    "# creates query to get given user followers by limit\n",
    "def create_query_with_limit(userid, limit):\n",
    "    my_query = 'SELECT * FROM {0}.Followers WHERE BINARY USERID = {1} LIMIT {2};'.format(config_my_sql['database'], userid,  limit)\n",
    "    return my_query"
   ]
  },
  {
   "cell_type": "code",
   "execution_count": 6,
   "metadata": {},
   "outputs": [],
   "source": [
    "# creates query to get given user followers\n",
    "def create_query(userid):\n",
    "    my_query = 'SELECT * FROM {0}.Followers WHERE BINARY USERID = {1};'.format(config_my_sql['database'], userid)\n",
    "    return my_query"
   ]
  },
  {
   "cell_type": "code",
   "execution_count": 7,
   "metadata": {},
   "outputs": [],
   "source": [
    "# load users vector and load user's associated id and index from files\n",
    "def get_vectors_and_user_ids():\n",
    "    with open(vector_input_file_name, \"rb\") as vector_input_file:\n",
    "        tweets_vector = pickle.load(vector_input_file)\n",
    "    \n",
    "    with open(user_ids_file_name, \"rb\") as user_ids_input_file:\n",
    "        user_ids = pickle.load(user_ids_input_file)\n",
    "    \n",
    "    return tweets_vector, user_ids"
   ]
  },
  {
   "cell_type": "code",
   "execution_count": 8,
   "metadata": {},
   "outputs": [],
   "source": [
    "# cossine similarity function compares two vectors and returns the similarity\n",
    "def cossine_similarity(vector1, vector2):\n",
    "    dot_product = sum(p*q for p,q in zip(vector1, vector2))\n",
    "    magnitude = math.sqrt(sum([val**2 for val in vector1])) * math.sqrt(sum([val**2 for val in vector2]))\n",
    "    if not magnitude:\n",
    "        return 0\n",
    "    return dot_product/magnitude"
   ]
  },
  {
   "cell_type": "code",
   "execution_count": 9,
   "metadata": {},
   "outputs": [],
   "source": [
    "# this function compares every each users between themself\n",
    "def comparisons_users(vectors, limit):\n",
    "    comparisons = []\n",
    "    \n",
    "    for i in range(0, limit):\n",
    "        for k in range(i+1, limit):\n",
    "            comparisons.append((cossine_similarity(vectors.toarray()[i], vectors.toarray()[k]), i, k))\n",
    "            \n",
    "        \n",
    "    return comparisons"
   ]
  },
  {
   "cell_type": "code",
   "execution_count": 47,
   "metadata": {},
   "outputs": [],
   "source": [
    "# this function select random user, and create comparison user list.\n",
    "# this list includes user's followers and random other users\n",
    "def select_rand_users_and_followers(user_ids):\n",
    "    import numpy as np\n",
    "    rand_user = np.random.randint(len(user_ids))\n",
    "    print('random user\\'s id: ',user_ids[rand_user])\n",
    "    cnx, cursor = connection_to_database()\n",
    "    t1 = time()\n",
    "    cursor.execute(create_query(user_ids[rand_user]))\n",
    "    print('database query duration: ',time()-t1)\n",
    "    followers = []\n",
    "    for userID, followerID in cursor:\n",
    "        followers.append(followerID)\n",
    "    \n",
    "    print('followers number: ',len(followers))\n",
    "    non_followers_count = 0\n",
    "    follower_count = 0\n",
    "    random_100_users = []\n",
    "\n",
    "    for ukey, uid in user_ids.items():\n",
    "        if uid not in followers and non_followers_count != 50:\n",
    "            random_100_users.append((ukey, uid))\n",
    "            non_followers_count += 1 \n",
    "        elif uid in followers and follower_count != 150:\n",
    "            random_100_users.append((ukey, uid))\n",
    "            follower_count += 1\n",
    "            \n",
    "    print(len(random_100_users))\n",
    "    print('nonfollowers number: ', non_followers_count)\n",
    "    print('followers number: ', follower_count)\n",
    "    \n",
    "    return random_100_users, rand_user\n",
    "    \n",
    "    "
   ]
  },
  {
   "cell_type": "code",
   "execution_count": 27,
   "metadata": {},
   "outputs": [],
   "source": [
    "# this function compares one user to her/his followers\n",
    "def comparisons_user_and_followers(vectors, user, followers, user_ids):\n",
    "    comparisons = []\n",
    "    \n",
    "    users_index = {}\n",
    "    for key, value in user_ids.items():\n",
    "        users_index[int(value)] = int(key)\n",
    "            \n",
    "    for key, value in user_ids.items():\n",
    "        if value in followers:\n",
    "            comparisons.append(\n",
    "                (cossine_similarity(\n",
    "                    vectors.toarray()[users_index[int(user)]], vectors.toarray()[users_index[int(value)]])\n",
    "                 ,users_index[int(user)], users_index[int(value)]))\n",
    "    \n",
    "    return comparisons"
   ]
  },
  {
   "cell_type": "code",
   "execution_count": 62,
   "metadata": {},
   "outputs": [],
   "source": [
    "def comparison_rand_users_and_followers(rand_user_idx, rand_user_list, vectors):\n",
    "    comparisons = []\n",
    "    \n",
    "    users_index = {}\n",
    "    for key, value in rand_user_list:\n",
    "        users_index[int(value)] = int(key)\n",
    "        \n",
    "    for key, value in rand_user_list:\n",
    "        comparisons.append((cossine_similarity(vectors.toarray()[int(rand_user_idx)], vectors.toarray()[int(key)])\n",
    "                           ,rand_user_indx, key))\n",
    "    return comparisons"
   ]
  },
  {
   "cell_type": "code",
   "execution_count": 50,
   "metadata": {},
   "outputs": [
    {
     "name": "stdout",
     "output_type": "stream",
     "text": [
      "random user's id:  361409019\n",
      "database query duration:  8.788805961608887\n",
      "followers number:  142236\n",
      "61\n",
      "50\n",
      "11\n"
     ]
    }
   ],
   "source": [
    "tweets_vectors, user_ids = get_vectors_and_user_ids()\n",
    "random_list, rand_user_indx = select_rand_users_and_followers(user_ids)\n"
   ]
  },
  {
   "cell_type": "code",
   "execution_count": 52,
   "metadata": {},
   "outputs": [
    {
     "data": {
      "text/plain": [
       "[(0, '750856029722804224'),\n",
       " (1, '425819395'),\n",
       " (2, '155534196'),\n",
       " (3, '239767112'),\n",
       " (4, '755944736951861248'),\n",
       " (5, '18426124'),\n",
       " (6, '218078497'),\n",
       " (7, '272613386'),\n",
       " (8, '3099076913'),\n",
       " (9, '723236478801842176'),\n",
       " (10, '564989988'),\n",
       " (11, '3233892120'),\n",
       " (12, '764455079218909184'),\n",
       " (13, '1640065826'),\n",
       " (14, '4546274656'),\n",
       " (15, '885935938446254080'),\n",
       " (16, '212356034'),\n",
       " (17, '707249498557423616'),\n",
       " (18, '45789967'),\n",
       " (19, '953812916'),\n",
       " (20, '1416636571'),\n",
       " (21, '1105861777'),\n",
       " (22, '735154369683816448'),\n",
       " (23, '129580191'),\n",
       " (24, '2878702673'),\n",
       " (25, '558705919'),\n",
       " (26, '326652782'),\n",
       " (27, '2258085246'),\n",
       " (28, '1656298465'),\n",
       " (29, '2662417016'),\n",
       " (30, '3194708872'),\n",
       " (31, '97877232'),\n",
       " (32, '368948189'),\n",
       " (33, '368308305'),\n",
       " (34, '361409019'),\n",
       " (35, '224176099'),\n",
       " (36, '218436831'),\n",
       " (37, '210436360'),\n",
       " (38, '82946124'),\n",
       " (39, '190171522'),\n",
       " (40, '2935645385'),\n",
       " (41, '225178363'),\n",
       " (42, '21418513'),\n",
       " (43, '99620272'),\n",
       " (44, '234904062'),\n",
       " (45, '41931916'),\n",
       " (46, '2569721730'),\n",
       " (47, '1680532806'),\n",
       " (48, '923909491'),\n",
       " (49, '246489366'),\n",
       " (50, '219248343'),\n",
       " (51, '47070156'),\n",
       " (52, '2457059790'),\n",
       " (53, '4287835905'),\n",
       " (54, '292822200'),\n",
       " (55, '326030438'),\n",
       " (95, '214188755'),\n",
       " (104, '365567541'),\n",
       " (111, '815573942324838405'),\n",
       " (146, '497735542'),\n",
       " (149, '2340821280')]"
      ]
     },
     "execution_count": 52,
     "metadata": {},
     "output_type": "execute_result"
    }
   ],
   "source": [
    "random_list"
   ]
  },
  {
   "cell_type": "code",
   "execution_count": 63,
   "metadata": {},
   "outputs": [],
   "source": [
    "comp = comparison_rand_users_and_followers(rand_user_indx, random_list, tweets_vectors)"
   ]
  },
  {
   "cell_type": "code",
   "execution_count": 64,
   "metadata": {},
   "outputs": [
    {
     "name": "stdout",
     "output_type": "stream",
     "text": [
      "(1.0000000000000002, 34, 34)\n",
      "(0.1216697006761344, 34, 1)\n",
      "(0.11588532205014178, 34, 41)\n",
      "(0.11471784495638701, 34, 2)\n",
      "(0.090968134338617945, 34, 146)\n",
      "(0.085162423509581864, 34, 7)\n",
      "(0.077304066748290684, 34, 52)\n",
      "(0.065982329203110146, 34, 50)\n",
      "(0.062476394800604698, 34, 27)\n",
      "(0.060896408702116628, 34, 31)\n",
      "(0.060661714429268675, 34, 21)\n",
      "(0.060342423814273329, 34, 9)\n",
      "(0.060194254320998036, 34, 18)\n",
      "(0.056693287423785266, 34, 104)\n",
      "(0.056018874478094227, 34, 14)\n",
      "(0.05419643199951367, 34, 53)\n",
      "(0.053377831306985667, 34, 28)\n",
      "(0.052214156348886473, 34, 37)\n",
      "(0.051835916948712799, 34, 4)\n",
      "(0.049961983032092663, 34, 23)\n",
      "(0.049605656044255972, 34, 19)\n",
      "(0.049500949726055177, 34, 29)\n",
      "(0.048886157045237001, 34, 149)\n",
      "(0.045660494886641034, 34, 6)\n",
      "(0.045641149911522835, 34, 8)\n",
      "(0.043639165025446493, 34, 13)\n",
      "(0.042659433741306325, 34, 42)\n",
      "(0.042337875222069526, 34, 15)\n",
      "(0.041194487275992411, 34, 12)\n",
      "(0.041050152983063991, 34, 0)\n",
      "(0.041034322653664496, 34, 46)\n",
      "(0.039507919875365873, 34, 47)\n",
      "(0.039286769311425329, 34, 39)\n",
      "(0.039285055445399598, 34, 25)\n",
      "(0.03845505488394025, 34, 30)\n",
      "(0.038341591177005391, 34, 20)\n",
      "(0.037659203725339346, 34, 43)\n",
      "(0.036168553115237777, 34, 35)\n",
      "(0.035448363054562566, 34, 48)\n",
      "(0.03475959941428472, 34, 33)\n",
      "(0.034588433313528892, 34, 10)\n",
      "(0.033665612755438452, 34, 38)\n",
      "(0.03326336528719228, 34, 95)\n",
      "(0.032834787552700972, 34, 45)\n",
      "(0.032141284246931009, 34, 49)\n",
      "(0.031329545182466993, 34, 111)\n",
      "(0.02978297323277046, 34, 16)\n",
      "(0.026602687204592891, 34, 5)\n",
      "(0.0261975300702494, 34, 36)\n",
      "(0.025420660922734348, 34, 54)\n",
      "(0.024804285881274552, 34, 22)\n",
      "(0.021402467773126922, 34, 3)\n",
      "(0.019801266446016031, 34, 51)\n",
      "(0.019161585786800706, 34, 55)\n",
      "(0.018531992265164429, 34, 40)\n",
      "(0.01772963171875578, 34, 17)\n",
      "(0.017433546984029945, 34, 26)\n",
      "(0.01714308239116389, 34, 24)\n",
      "(0.014778030167236769, 34, 32)\n",
      "(0.0097747056525428373, 34, 44)\n",
      "(0.005138744597562115, 34, 11)\n"
     ]
    }
   ],
   "source": [
    "\n",
    "for count, cp in enumerate(sorted(comp, reverse=True)):\n",
    "    print(cp)"
   ]
  },
  {
   "cell_type": "code",
   "execution_count": null,
   "metadata": {},
   "outputs": [],
   "source": [
    "def takeSecondKey(_tuple):\n",
    "    return _tuple[1]"
   ]
  },
  {
   "cell_type": "code",
   "execution_count": null,
   "metadata": {},
   "outputs": [],
   "source": [
    "# def related_results(comp, user_followers_comp):\n",
    "    \n",
    "    "
   ]
  },
  {
   "cell_type": "code",
   "execution_count": null,
   "metadata": {},
   "outputs": [],
   "source": [
    "tweets_vector, user_ids = get_vectors_and_user_ids()\n",
    "cnx, cursor = connection_to_database()"
   ]
  },
  {
   "cell_type": "code",
   "execution_count": null,
   "metadata": {},
   "outputs": [],
   "source": [
    "tweets_vector.shape"
   ]
  },
  {
   "cell_type": "code",
   "execution_count": null,
   "metadata": {},
   "outputs": [],
   "source": [
    "t1 = time()\n",
    "comparisons = comparisons_users(tweets_vector, 20)\n",
    "end_time = time() - t1\n",
    "\n",
    "end_time"
   ]
  },
  {
   "cell_type": "code",
   "execution_count": null,
   "metadata": {},
   "outputs": [],
   "source": [
    "len(comparisons)"
   ]
  },
  {
   "cell_type": "code",
   "execution_count": null,
   "metadata": {},
   "outputs": [],
   "source": [
    "for count, cp in enumerate(sorted(comparisons, reverse=True)):\n",
    "    print(cp)"
   ]
  },
  {
   "cell_type": "code",
   "execution_count": null,
   "metadata": {},
   "outputs": [],
   "source": [
    "for i in range(21):\n",
    "    print('index: ', i , 'user_id:', user_ids[i])"
   ]
  },
  {
   "cell_type": "code",
   "execution_count": null,
   "metadata": {},
   "outputs": [],
   "source": [
    "user_ids[0]"
   ]
  },
  {
   "cell_type": "code",
   "execution_count": null,
   "metadata": {},
   "outputs": [],
   "source": [
    "t1 = time()\n",
    "cursor.execute(create_query(user_ids[0]))\n",
    "end_time = time() - t1\n",
    "\n",
    "end_time\n"
   ]
  },
  {
   "cell_type": "code",
   "execution_count": null,
   "metadata": {},
   "outputs": [],
   "source": [
    "followers = []\n",
    "for userID, followerID in cursor:\n",
    "    followers.append(followerID)\n",
    "\n"
   ]
  },
  {
   "cell_type": "code",
   "execution_count": null,
   "metadata": {},
   "outputs": [],
   "source": [
    "t1 = time()\n",
    "comp = comparisons_user_and_followers(tweets_vector,user_ids[0], followers, user_ids)\n",
    "end_time = time() - t1\n",
    "\n",
    "'end_time: ', end_time, len(comp)"
   ]
  },
  {
   "cell_type": "code",
   "execution_count": null,
   "metadata": {
    "scrolled": false
   },
   "outputs": [],
   "source": [
    "for count, cp in enumerate(sorted(comp, reverse=True)):\n",
    "    print(cp)"
   ]
  },
  {
   "cell_type": "code",
   "execution_count": null,
   "metadata": {},
   "outputs": [],
   "source": [
    "user_info_path = os.getcwd() + '/dataSets/tweets/user_info.json'\n",
    "\n",
    "user_info = json.load(open(user_info_path))\n",
    "\n",
    "user_info_path"
   ]
  },
  {
   "cell_type": "code",
   "execution_count": null,
   "metadata": {},
   "outputs": [],
   "source": [
    "followers_path = os.getcwd() + '/dataSets/tweets/followers.json'\n",
    "\n",
    "followers = json.load(open(followers_path))\n",
    "followers_path"
   ]
  }
 ],
 "metadata": {
  "kernelspec": {
   "display_name": "Python 3",
   "language": "python",
   "name": "python3"
  },
  "language_info": {
   "codemirror_mode": {
    "name": "ipython",
    "version": 3
   },
   "file_extension": ".py",
   "mimetype": "text/x-python",
   "name": "python",
   "nbconvert_exporter": "python",
   "pygments_lexer": "ipython3",
   "version": "3.5.4"
  }
 },
 "nbformat": 4,
 "nbformat_minor": 2
}
