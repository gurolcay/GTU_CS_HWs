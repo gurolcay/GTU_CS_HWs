{
 "cells": [
  {
   "cell_type": "code",
   "execution_count": 1,
   "metadata": {},
   "outputs": [],
   "source": [
    "# -*- unicode: utf-8 -*-\n",
    "from __future__ import division\n",
    "import os \n",
    "import json\n",
    "import math\n",
    "import codecs\n",
    "import string\n",
    "import matplotlib.pyplot as plt\n",
    "import numpy as np\n",
    "\n",
    "from time import time\n",
    "from sklearn import metrics\n",
    "from sklearn.utils.extmath import density\n",
    "from sklearn.svm import LinearSVC\n",
    "from sklearn.pipeline import Pipeline\n",
    "from sklearn.naive_bayes import BernoulliNB\n",
    "from sklearn.linear_model import SGDClassifier\n",
    "from sklearn.tree import DecisionTreeClassifier\n",
    "from sklearn.neighbors import KNeighborsClassifier\n",
    "from sklearn.ensemble import RandomForestClassifier\n",
    "from sklearn.feature_selection import SelectFromModel\n",
    "from sklearn.feature_extraction.text import TfidfVectorizer\n",
    "from sklearn.model_selection import train_test_split\n",
    "from sklearn.multiclass import OneVsRestClassifier\n",
    "from sklearn.metrics import roc_curve, auc\n",
    "from sklearn import svm\n",
    "from scipy import interp\n",
    "from sklearn.preprocessing import label_binarize"
   ]
  },
  {
   "cell_type": "code",
   "execution_count": 2,
   "metadata": {},
   "outputs": [],
   "source": [
    "if os.name is 'nt':\n",
    "    file_path_delim = '\\\\'\n",
    "    dataset_path = '\\\\dataSets\\\\tweets\\\\tweets_short.json'\n",
    "elif os.name is 'posix':\n",
    "    file_path_delim = '/'\n",
    "    dataset_path = '/dataSets/tweets/tweets_short.json'"
   ]
  },
  {
   "cell_type": "code",
   "execution_count": 3,
   "metadata": {},
   "outputs": [
    {
     "data": {
      "text/plain": [
       "'C:\\\\Users\\\\Gurol\\\\Documents\\\\Lessons\\\\BIL495\\\\Codes\\\\BIL495\\\\dataSets\\\\tweets\\\\tweets_short.json'"
      ]
     },
     "execution_count": 3,
     "metadata": {},
     "output_type": "execute_result"
    }
   ],
   "source": [
    "dataset_path = os.getcwd() + dataset_path\n",
    "\n",
    "tokenizer = lambda doc: doc.lower().split(\" \")\n",
    "\n",
    "dataset_path"
   ]
  },
  {
   "cell_type": "code",
   "execution_count": 4,
   "metadata": {},
   "outputs": [],
   "source": [
    "datas = json.load(open(dataset_path))"
   ]
  },
  {
   "cell_type": "code",
   "execution_count": 5,
   "metadata": {},
   "outputs": [],
   "source": [
    "def read_data(datas):\n",
    "    X = [] # input\n",
    "    y = [] # label\n",
    "\n",
    "    for data in datas:\n",
    "        for key, value in data.items():\n",
    "        #    print(key, 'value: ', value)\n",
    "            if key == \"TextText\":\n",
    "                X.append(value)\n",
    "            elif key == \"UserID\":\n",
    "                y.append(value)\n",
    "        \n",
    "    return X, y"
   ]
  },
  {
   "cell_type": "code",
   "execution_count": 6,
   "metadata": {},
   "outputs": [],
   "source": [
    "X, y = read_data(datas)"
   ]
  },
  {
   "cell_type": "code",
   "execution_count": 7,
   "metadata": {},
   "outputs": [],
   "source": [
    "number_of_class = set(y)"
   ]
  },
  {
   "cell_type": "code",
   "execution_count": 8,
   "metadata": {},
   "outputs": [
    {
     "data": {
      "text/plain": [
       "{'100341775',\n",
       " '1014141614',\n",
       " '1037040092',\n",
       " '103817724',\n",
       " '1058832804',\n",
       " '1061610746',\n",
       " '1079797910',\n",
       " '1151524399',\n",
       " '1152451597',\n",
       " '1257313244',\n",
       " '1278512364',\n",
       " '127963928',\n",
       " '1286632028',\n",
       " '1338800348',\n",
       " '1379981628',\n",
       " '1431324486',\n",
       " '147574230',\n",
       " '148382063',\n",
       " '1499266621',\n",
       " '15016249',\n",
       " '154236788',\n",
       " '155280601',\n",
       " '155534196',\n",
       " '1594078644',\n",
       " '1608521298',\n",
       " '1623755515',\n",
       " '1638649314',\n",
       " '1658471437',\n",
       " '1678245050',\n",
       " '1680532806',\n",
       " '178519812',\n",
       " '182900106',\n",
       " '1829708546',\n",
       " '18426124',\n",
       " '184601733',\n",
       " '1907145728',\n",
       " '1908986682',\n",
       " '206166992',\n",
       " '207060084',\n",
       " '207411389',\n",
       " '212662108',\n",
       " '214364824',\n",
       " '2161351764',\n",
       " '2162910601',\n",
       " '2166179760',\n",
       " '217879240',\n",
       " '219248343',\n",
       " '221140049',\n",
       " '221859669',\n",
       " '2219824690',\n",
       " '2241342374',\n",
       " '225178363',\n",
       " '226586010',\n",
       " '2267933576',\n",
       " '2269362235',\n",
       " '2280957055',\n",
       " '229020623',\n",
       " '230287600',\n",
       " '2302974733',\n",
       " '2306968549',\n",
       " '2312783506',\n",
       " '23186079',\n",
       " '2324335390',\n",
       " '2327218472',\n",
       " '2335496184',\n",
       " '233613812',\n",
       " '238303027',\n",
       " '2424673684',\n",
       " '2520456080',\n",
       " '2547943374',\n",
       " '2583950214',\n",
       " '259791346',\n",
       " '2611772222',\n",
       " '2662417016',\n",
       " '2712990751',\n",
       " '272613386',\n",
       " '2743109408',\n",
       " '2770241249',\n",
       " '2800466851',\n",
       " '283106922',\n",
       " '2862359981',\n",
       " '2867588650',\n",
       " '287727968',\n",
       " '288713989',\n",
       " '289263700',\n",
       " '2897405045',\n",
       " '2960155647',\n",
       " '296406287',\n",
       " '2967462670',\n",
       " '297332485',\n",
       " '299288321',\n",
       " '2994698554',\n",
       " '3001036504',\n",
       " '300422348',\n",
       " '302716201',\n",
       " '305138161',\n",
       " '306927842',\n",
       " '3091746946',\n",
       " '3105384683',\n",
       " '3135219364',\n",
       " '31360793',\n",
       " '314221189',\n",
       " '322061996',\n",
       " '3228821009',\n",
       " '3233892120',\n",
       " '328392658',\n",
       " '329569925',\n",
       " '332371366',\n",
       " '334021205',\n",
       " '3363862253',\n",
       " '336639852',\n",
       " '338713479',\n",
       " '340774582',\n",
       " '345865211',\n",
       " '3529053988',\n",
       " '3587261898',\n",
       " '361409019',\n",
       " '363866141',\n",
       " '3652322656',\n",
       " '365567541',\n",
       " '368002280',\n",
       " '370760737',\n",
       " '371660232',\n",
       " '3780467603',\n",
       " '38508101',\n",
       " '390904005',\n",
       " '39104484',\n",
       " '399618049',\n",
       " '408546169',\n",
       " '408632453',\n",
       " '4106541677',\n",
       " '41442791',\n",
       " '417840334',\n",
       " '421174094',\n",
       " '4241556623',\n",
       " '4242878596',\n",
       " '425819395',\n",
       " '426242792',\n",
       " '4290088573',\n",
       " '431519465',\n",
       " '4327240396',\n",
       " '4546274656',\n",
       " '456187959',\n",
       " '465949901',\n",
       " '471859539',\n",
       " '4827839478',\n",
       " '4856670141',\n",
       " '497735542',\n",
       " '532225643',\n",
       " '540746452',\n",
       " '541651766',\n",
       " '543166036',\n",
       " '544991913',\n",
       " '546840740',\n",
       " '547625189',\n",
       " '55195136',\n",
       " '565848357',\n",
       " '580069274',\n",
       " '581650157',\n",
       " '583863506',\n",
       " '58465695',\n",
       " '58513068',\n",
       " '605871408',\n",
       " '61171559',\n",
       " '61189897',\n",
       " '615234551',\n",
       " '619390325',\n",
       " '621001938',\n",
       " '625828668',\n",
       " '629691879',\n",
       " '68812480',\n",
       " '700397072063795200',\n",
       " '709891082411220992',\n",
       " '710792618595250178',\n",
       " '716197251283042304',\n",
       " '720008181947228162',\n",
       " '720875099184738304',\n",
       " '724819219',\n",
       " '726165738042576898',\n",
       " '731048170877288448',\n",
       " '732590069681393664',\n",
       " '733211897718247426',\n",
       " '737302248338952193',\n",
       " '737418630',\n",
       " '74379696',\n",
       " '747296259715694592',\n",
       " '750412262',\n",
       " '754477875001233408',\n",
       " '755304480',\n",
       " '756307418594902017',\n",
       " '756866324937269249',\n",
       " '757176735158923264',\n",
       " '760134507072786432',\n",
       " '768542424',\n",
       " '769581869990051841',\n",
       " '773834053783056384',\n",
       " '778190287',\n",
       " '779306971581259776',\n",
       " '780367161776861185',\n",
       " '78126385',\n",
       " '794275879719473152',\n",
       " '795344738178265088',\n",
       " '796399666577424384',\n",
       " '808341696715096064',\n",
       " '815573942324838405',\n",
       " '819201027857641472',\n",
       " '826443466649518081',\n",
       " '829741120045342726',\n",
       " '838307023527768064',\n",
       " '847049857',\n",
       " '875668493768810496',\n",
       " '885935938446254080',\n",
       " '888735397',\n",
       " '893488091050250241',\n",
       " '921481224',\n",
       " '95526890',\n",
       " '96568902',\n",
       " '97764700'}"
      ]
     },
     "execution_count": 8,
     "metadata": {},
     "output_type": "execute_result"
    }
   ],
   "source": [
    "number_of_class"
   ]
  },
  {
   "cell_type": "code",
   "execution_count": 9,
   "metadata": {},
   "outputs": [
    {
     "data": {
      "text/plain": [
       "(\"Sn.CB'nımızın çağrısıyla 3 banka konut kredisi faiz oranlarını ℅1'in altına çekti..Bu olumlu bir adım.\\n\\nAncak şişen piyasa nasıl düşecek?\",\n",
       " '154236788')"
      ]
     },
     "execution_count": 9,
     "metadata": {},
     "output_type": "execute_result"
    }
   ],
   "source": [
    "X[1], y[1]"
   ]
  },
  {
   "cell_type": "code",
   "execution_count": 10,
   "metadata": {},
   "outputs": [
    {
     "data": {
      "text/plain": [
       "(93753, 93753)"
      ]
     },
     "execution_count": 10,
     "metadata": {},
     "output_type": "execute_result"
    }
   ],
   "source": [
    "len(X), len(y)"
   ]
  },
  {
   "cell_type": "code",
   "execution_count": 11,
   "metadata": {},
   "outputs": [],
   "source": [
    "# Split test and train data\n",
    "X_train, X_test, y_train, y_test = train_test_split(X, y, test_size=0.2)"
   ]
  },
  {
   "cell_type": "code",
   "execution_count": 12,
   "metadata": {},
   "outputs": [],
   "source": [
    "y_label = []\n",
    "for index in range(1,len(number_of_class)):\n",
    "    y_label.append(index)\n"
   ]
  },
  {
   "cell_type": "code",
   "execution_count": 13,
   "metadata": {},
   "outputs": [
    {
     "data": {
      "text/plain": [
       "(217, 1, 217)"
      ]
     },
     "execution_count": 13,
     "metadata": {},
     "output_type": "execute_result"
    }
   ],
   "source": [
    "len(y_label), y_label[0], y_label[216]"
   ]
  },
  {
   "cell_type": "code",
   "execution_count": 14,
   "metadata": {},
   "outputs": [],
   "source": [
    "# Feature extraction: create feature vector\n",
    "vectorizer = TfidfVectorizer(norm='l2', min_df=0.05, use_idf=True, smooth_idf=False, sublinear_tf=True,tokenizer=tokenizer)"
   ]
  },
  {
   "cell_type": "code",
   "execution_count": 15,
   "metadata": {},
   "outputs": [
    {
     "data": {
      "text/plain": [
       "('X_train duration time: ', 2.0147886276245117)"
      ]
     },
     "execution_count": 15,
     "metadata": {},
     "output_type": "execute_result"
    }
   ],
   "source": [
    "# Extracting features from the training data using a sparse vectorizer\n",
    "t0 = time()\n",
    "X_train = vectorizer.fit_transform(X_train)\n",
    "duration = time() - t0\n",
    "\n",
    "'X_train duration time: ', duration"
   ]
  },
  {
   "cell_type": "code",
   "execution_count": 16,
   "metadata": {},
   "outputs": [
    {
     "data": {
      "text/plain": [
       "('X_test duration time: ', 0.21616220474243164)"
      ]
     },
     "execution_count": 16,
     "metadata": {},
     "output_type": "execute_result"
    }
   ],
   "source": [
    "# Extracting features from the test data using the same vectorizer\n",
    "t0 = time()\n",
    "X_test = vectorizer.transform(X_test)\n",
    "duration = time() - t0\n",
    "\n",
    "'X_test duration time: ', duration"
   ]
  },
  {
   "cell_type": "code",
   "execution_count": 17,
   "metadata": {},
   "outputs": [
    {
     "data": {
      "text/plain": [
       "75002"
      ]
     },
     "execution_count": 17,
     "metadata": {},
     "output_type": "execute_result"
    }
   ],
   "source": [
    "len(y_train)"
   ]
  },
  {
   "cell_type": "code",
   "execution_count": 18,
   "metadata": {},
   "outputs": [
    {
     "data": {
      "text/plain": [
       "18751"
      ]
     },
     "execution_count": 18,
     "metadata": {},
     "output_type": "execute_result"
    }
   ],
   "source": [
    "len(y_test)"
   ]
  },
  {
   "cell_type": "code",
   "execution_count": 34,
   "metadata": {},
   "outputs": [
    {
     "ename": "ValueError",
     "evalue": "axis(=-1) out of bounds",
     "output_type": "error",
     "traceback": [
      "\u001b[1;31m---------------------------------------------------------------------------\u001b[0m",
      "\u001b[1;31mValueError\u001b[0m                                Traceback (most recent call last)",
      "\u001b[1;32m<ipython-input-34-220edb2a14e6>\u001b[0m in \u001b[0;36m<module>\u001b[1;34m()\u001b[0m\n\u001b[1;32m----> 1\u001b[1;33m \u001b[0my_test_arr\u001b[0m \u001b[1;33m=\u001b[0m \u001b[0mlabel_binarize\u001b[0m\u001b[1;33m(\u001b[0m\u001b[0my_test\u001b[0m\u001b[1;33m,\u001b[0m \u001b[0mclasses\u001b[0m\u001b[1;33m=\u001b[0m\u001b[0mnumber_of_class\u001b[0m\u001b[1;33m)\u001b[0m\u001b[1;33m\u001b[0m\u001b[0m\n\u001b[0m\u001b[0;32m      2\u001b[0m \u001b[0my_test_arr\u001b[0m\u001b[1;33m\u001b[0m\u001b[0m\n",
      "\u001b[1;32m~\\Anaconda3\\envs\\tensorflow-gpu\\lib\\site-packages\\sklearn\\preprocessing\\label.py\u001b[0m in \u001b[0;36mlabel_binarize\u001b[1;34m(y, classes, neg_label, pos_label, sparse_output)\u001b[0m\n\u001b[0;32m    491\u001b[0m             \u001b[0my_type\u001b[0m \u001b[1;33m=\u001b[0m \u001b[1;34m\"multiclass\"\u001b[0m\u001b[1;33m\u001b[0m\u001b[0m\n\u001b[0;32m    492\u001b[0m \u001b[1;33m\u001b[0m\u001b[0m\n\u001b[1;32m--> 493\u001b[1;33m     \u001b[0msorted_class\u001b[0m \u001b[1;33m=\u001b[0m \u001b[0mnp\u001b[0m\u001b[1;33m.\u001b[0m\u001b[0msort\u001b[0m\u001b[1;33m(\u001b[0m\u001b[0mclasses\u001b[0m\u001b[1;33m)\u001b[0m\u001b[1;33m\u001b[0m\u001b[0m\n\u001b[0m\u001b[0;32m    494\u001b[0m     \u001b[1;32mif\u001b[0m \u001b[1;33m(\u001b[0m\u001b[0my_type\u001b[0m \u001b[1;33m==\u001b[0m \u001b[1;34m\"multilabel-indicator\"\u001b[0m \u001b[1;32mand\u001b[0m \u001b[0mclasses\u001b[0m\u001b[1;33m.\u001b[0m\u001b[0msize\u001b[0m \u001b[1;33m!=\u001b[0m \u001b[0my\u001b[0m\u001b[1;33m.\u001b[0m\u001b[0mshape\u001b[0m\u001b[1;33m[\u001b[0m\u001b[1;36m1\u001b[0m\u001b[1;33m]\u001b[0m\u001b[1;33m)\u001b[0m\u001b[1;33m:\u001b[0m\u001b[1;33m\u001b[0m\u001b[0m\n\u001b[0;32m    495\u001b[0m         raise ValueError(\"classes {0} missmatch with the labels {1}\"\n",
      "\u001b[1;32m~\\Anaconda3\\envs\\tensorflow-gpu\\lib\\site-packages\\numpy\\core\\fromnumeric.py\u001b[0m in \u001b[0;36msort\u001b[1;34m(a, axis, kind, order)\u001b[0m\n\u001b[0;32m    820\u001b[0m     \u001b[1;32melse\u001b[0m\u001b[1;33m:\u001b[0m\u001b[1;33m\u001b[0m\u001b[0m\n\u001b[0;32m    821\u001b[0m         \u001b[0ma\u001b[0m \u001b[1;33m=\u001b[0m \u001b[0masanyarray\u001b[0m\u001b[1;33m(\u001b[0m\u001b[0ma\u001b[0m\u001b[1;33m)\u001b[0m\u001b[1;33m.\u001b[0m\u001b[0mcopy\u001b[0m\u001b[1;33m(\u001b[0m\u001b[0morder\u001b[0m\u001b[1;33m=\u001b[0m\u001b[1;34m\"K\"\u001b[0m\u001b[1;33m)\u001b[0m\u001b[1;33m\u001b[0m\u001b[0m\n\u001b[1;32m--> 822\u001b[1;33m     \u001b[0ma\u001b[0m\u001b[1;33m.\u001b[0m\u001b[0msort\u001b[0m\u001b[1;33m(\u001b[0m\u001b[0maxis\u001b[0m\u001b[1;33m=\u001b[0m\u001b[0maxis\u001b[0m\u001b[1;33m,\u001b[0m \u001b[0mkind\u001b[0m\u001b[1;33m=\u001b[0m\u001b[0mkind\u001b[0m\u001b[1;33m,\u001b[0m \u001b[0morder\u001b[0m\u001b[1;33m=\u001b[0m\u001b[0morder\u001b[0m\u001b[1;33m)\u001b[0m\u001b[1;33m\u001b[0m\u001b[0m\n\u001b[0m\u001b[0;32m    823\u001b[0m     \u001b[1;32mreturn\u001b[0m \u001b[0ma\u001b[0m\u001b[1;33m\u001b[0m\u001b[0m\n\u001b[0;32m    824\u001b[0m \u001b[1;33m\u001b[0m\u001b[0m\n",
      "\u001b[1;31mValueError\u001b[0m: axis(=-1) out of bounds"
     ]
    }
   ],
   "source": [
    "# bu yanlis abi bunu degistirmen gerekli\n",
    "y_test_arr = label_binarize(y_test, classes=number_of_class)\n",
    "y_test_arr"
   ]
  },
  {
   "cell_type": "code",
   "execution_count": 20,
   "metadata": {},
   "outputs": [
    {
     "data": {
      "text/plain": [
       "array([1, 0, 0, ..., 0, 0, 0])"
      ]
     },
     "execution_count": 20,
     "metadata": {},
     "output_type": "execute_result"
    }
   ],
   "source": [
    "y_test_arr[0]"
   ]
  },
  {
   "cell_type": "code",
   "execution_count": 21,
   "metadata": {},
   "outputs": [],
   "source": [
    "def benchmark(clf):\n",
    "    print('_' * 80)\n",
    "    print('Training')\n",
    "    print(clf)\n",
    "    t0 = time()\n",
    "    clf.fit(X_train, y_train)\n",
    "    train_time = time() - t0\n",
    "    print('Train time: %0.3fs' % train_time)\n",
    "    \n",
    "    t0 = time()\n",
    "    pred = clf.predict(X_test)\n",
    "    test_time = time() - t0\n",
    "    print('Test time: %0.3fs' % test_time)\n",
    "    \n",
    "    score = metrics.accuracy_score(y_test, pred)\n",
    "    print('accuracy: %0.3f' % score)\n",
    "\n",
    "    print()\n",
    "    clf_descr = str(clf).split('(')[0]\n",
    "    return clf_descr, score, train_time, test_time"
   ]
  },
  {
   "cell_type": "code",
   "execution_count": 37,
   "metadata": {},
   "outputs": [],
   "source": [
    "# Learn to predict each class against the other\n",
    "# classifier = OneVsRestClassifier(svm.SVC(kernel='poly', probability=True))\n",
    "classifier = svm.SVC(kernel='rbf', probability=True)"
   ]
  },
  {
   "cell_type": "code",
   "execution_count": 38,
   "metadata": {},
   "outputs": [
    {
     "data": {
      "text/plain": [
       "(18751, 7)"
      ]
     },
     "execution_count": 38,
     "metadata": {},
     "output_type": "execute_result"
    }
   ],
   "source": [
    "X_test.shape"
   ]
  },
  {
   "cell_type": "code",
   "execution_count": 39,
   "metadata": {},
   "outputs": [
    {
     "name": "stdout",
     "output_type": "stream",
     "text": [
      "Train time: 930.689s\n",
      "<class 'sklearn.svm.classes.SVC'>\n",
      "\n",
      "Test time: 368.750s\n",
      "accuracy: 0.147\n"
     ]
    }
   ],
   "source": [
    "# t0 = time()\n",
    "# y_score = classifier.fit(X_train, y_train).decision_function(X_test)\n",
    "# fit_time = time() - t0\n",
    "# fit_time\n",
    "\n",
    "\n",
    "t0 = time()\n",
    "model = classifier.fit(X_train, y_train)\n",
    "fit_time = time() - t0\n",
    "print('Train time: %0.3fs' % fit_time)\n",
    "print(type(model))\n",
    "\n",
    "y_score = model.decision_function(X_test)\n",
    "print()\n",
    "t0 = time()\n",
    "preds = model.predict(X_test)\n",
    "test_time = time() - t0\n",
    "print('Test time: %0.3fs' % test_time)\n",
    "\n",
    "score = metrics.accuracy_score(y_test, preds)\n",
    "print('accuracy: %0.03f' % score) \n",
    "\n",
    "\n",
    "# t0 = time()\n",
    "# y_score = classifier.fit(X_train, y_train)\n",
    "\n",
    "# probs = classifier.predict_proba(X_test)\n",
    "# preds = probs[:, 1]\n",
    "\n",
    "# fit_time = time() - t0\n",
    "# fit_time"
   ]
  },
  {
   "cell_type": "code",
   "execution_count": 29,
   "metadata": {},
   "outputs": [
    {
     "data": {
      "text/plain": [
       "(list, numpy.ndarray)"
      ]
     },
     "execution_count": 29,
     "metadata": {},
     "output_type": "execute_result"
    }
   ],
   "source": [
    "type(y_test), type(y_score) #type(preds)"
   ]
  },
  {
   "cell_type": "code",
   "execution_count": null,
   "metadata": {},
   "outputs": [],
   "source": []
  },
  {
   "cell_type": "code",
   "execution_count": 27,
   "metadata": {},
   "outputs": [
    {
     "data": {
      "text/plain": [
       "'497735542'"
      ]
     },
     "execution_count": 27,
     "metadata": {},
     "output_type": "execute_result"
    }
   ],
   "source": [
    "y_test[0]"
   ]
  },
  {
   "cell_type": "code",
   "execution_count": 28,
   "metadata": {},
   "outputs": [
    {
     "data": {
      "text/plain": [
       "array([-0.99962068, -0.99951409, -1.        , -0.99954117, -0.99973533,\n",
       "       -1.        , -0.99962414, -0.99932561, -0.99951409, -1.        ,\n",
       "       -0.99945421, -1.00001407, -0.99960976, -0.99966388, -0.99962177,\n",
       "       -0.99997765, -0.99963943, -0.99951409, -0.99964119, -0.99953736,\n",
       "       -0.99991968, -0.99939428, -0.99972213, -0.99956989, -1.        ,\n",
       "       -0.99964966, -0.99949224, -0.99958732, -0.99979829, -0.99998941,\n",
       "       -0.99948331, -0.99969274, -0.99942129, -0.9994801 , -1.00019406,\n",
       "       -0.99951409, -0.99985376, -0.99964618, -1.00011479, -0.99947419,\n",
       "       -0.99981954, -0.99962039, -0.99962446, -1.        , -0.99958975,\n",
       "       -0.99964761, -0.99946969, -0.99969561, -0.99953589, -0.99935899,\n",
       "       -0.99960702, -0.99927858, -0.99959754, -0.99951716, -0.99997741,\n",
       "       -0.99948648, -0.99961576, -0.99997361, -0.99967917, -0.99951409,\n",
       "       -0.99951409, -0.99949847, -0.99972407, -0.99969911, -0.99945479,\n",
       "       -0.9994515 , -1.00010831, -0.99961246, -1.        , -1.        ,\n",
       "       -0.99958531, -0.99975668, -1.        , -0.99946679, -0.99962121,\n",
       "       -0.99950757, -1.        , -0.99951409, -0.99951994, -1.00000287,\n",
       "       -0.99967417, -0.99951409, -0.99967611, -0.99973303, -0.99933149,\n",
       "       -0.9995237 , -0.99955452, -0.99952327, -0.99951409, -0.99927114,\n",
       "       -1.        , -0.99960956, -1.        , -0.99951409, -0.99951409,\n",
       "       -1.        , -0.99945352, -0.99936926, -0.99943328, -0.99963567,\n",
       "       -0.99956651, -0.99964074, -1.00017761, -0.99958583, -1.        ,\n",
       "       -1.        , -0.99950367, -0.99999728, -1.        , -0.99953439,\n",
       "       -0.99951409, -0.99951072, -0.99997765, -0.99966916, -0.99951409,\n",
       "       -0.99954894, -0.99985152, -0.99932559, -0.99972537, -0.99968391,\n",
       "       -1.00014646, -0.99956384, -0.99951409, -0.99957321, -0.99948011,\n",
       "       -1.        , -0.99947203, -0.99939769, -0.99963426, -0.99975349,\n",
       "       -0.99964651, -0.99957092, -1.00032727, -1.        , -0.99951409,\n",
       "       -1.        , -0.99963888, -0.99944562, -0.99944559, -0.99947007,\n",
       "       -0.99927114, -0.99968932, -0.99949569, -0.99954428, -0.99952259,\n",
       "       -0.99951409, -1.00001729, -0.99993989, -1.        , -0.99959942,\n",
       "       -0.99959605, -1.        , -1.        , -1.00001407, -0.99971104,\n",
       "       -0.99963197, -0.99952403, -0.99954974, -0.99951409, -0.9994655 ,\n",
       "       -0.99909391, -0.99947668, -0.99951409, -0.99962472, -0.99953875,\n",
       "       -0.99998712, -0.99968556, -0.99996204, -0.99964398, -0.99960956,\n",
       "       -0.99943197, -0.99969643, -0.99951883, -0.99951409, -0.99977201,\n",
       "       -0.9995212 , -0.99955936, -0.99951409, -0.99927114, -0.99982941,\n",
       "       -0.99968961, -0.99954675, -0.99948124, -0.99964074, -0.99970324,\n",
       "       -0.99967688, -0.99953846, -0.99951409, -0.99955872, -0.99978173,\n",
       "       -0.99953815, -0.99951409, -0.99956349, -0.99947419, -0.99951409,\n",
       "       -0.99931151, -0.99951409, -0.99957892, -1.        , -0.99997528,\n",
       "       -0.99984428, -0.99965854, -0.99941434, -0.99954276, -0.99948241,\n",
       "       -0.99960865, -0.99970305, -0.99985032, -0.99962658, -1.        ,\n",
       "       -0.99944889, -0.99988437, -0.99951409, -1.        , -0.99951409,\n",
       "       -0.99949014, -1.00002949])"
      ]
     },
     "execution_count": 28,
     "metadata": {},
     "output_type": "execute_result"
    }
   ],
   "source": [
    "y_score[0]"
   ]
  },
  {
   "cell_type": "code",
   "execution_count": 32,
   "metadata": {},
   "outputs": [
    {
     "data": {
      "text/plain": [
       "(array([0, 0, 0, ..., 0, 0, 0]), (18751, 18751))"
      ]
     },
     "execution_count": 32,
     "metadata": {},
     "output_type": "execute_result"
    }
   ],
   "source": [
    "y_test_arr[218], y_test_arr.shape"
   ]
  },
  {
   "cell_type": "code",
   "execution_count": 33,
   "metadata": {
    "scrolled": true
   },
   "outputs": [
    {
     "name": "stdout",
     "output_type": "stream",
     "text": [
      "len(y_test):  18751\n",
      "y_test_arr.shape:  (18751, 18751)\n",
      "type(y_test_arr):  <class 'numpy.ndarray'>\n",
      "y_test[:10]:  ['497735542', '217879240', '365567541', '219248343', '754477875001233408', '2662417016', '272613386', '214364824', '61171559', '815573942324838405']\n",
      "********************************************************************************\n",
      "type(y_score):  <class 'numpy.ndarray'>\n",
      "y_score.shape:  (18751, 217)\n"
     ]
    },
    {
     "ename": "IndexError",
     "evalue": "index 217 is out of bounds for axis 1 with size 217",
     "output_type": "error",
     "traceback": [
      "\u001b[1;31m---------------------------------------------------------------------------\u001b[0m",
      "\u001b[1;31mIndexError\u001b[0m                                Traceback (most recent call last)",
      "\u001b[1;32m<ipython-input-33-94006f039771>\u001b[0m in \u001b[0;36m<module>\u001b[1;34m()\u001b[0m\n\u001b[0;32m     20\u001b[0m \u001b[1;33m\u001b[0m\u001b[0m\n\u001b[0;32m     21\u001b[0m \u001b[1;32mfor\u001b[0m \u001b[0mi\u001b[0m \u001b[1;32min\u001b[0m \u001b[0mrange\u001b[0m\u001b[1;33m(\u001b[0m\u001b[0mlen\u001b[0m\u001b[1;33m(\u001b[0m\u001b[0mnumber_of_class\u001b[0m\u001b[1;33m)\u001b[0m\u001b[1;33m)\u001b[0m\u001b[1;33m:\u001b[0m\u001b[1;33m\u001b[0m\u001b[0m\n\u001b[1;32m---> 22\u001b[1;33m     \u001b[0mfpr\u001b[0m\u001b[1;33m[\u001b[0m\u001b[0mi\u001b[0m\u001b[1;33m]\u001b[0m\u001b[1;33m,\u001b[0m \u001b[0mtpr\u001b[0m\u001b[1;33m[\u001b[0m\u001b[0mi\u001b[0m\u001b[1;33m]\u001b[0m\u001b[1;33m,\u001b[0m \u001b[0m_\u001b[0m \u001b[1;33m=\u001b[0m \u001b[0mroc_curve\u001b[0m\u001b[1;33m(\u001b[0m\u001b[0my_test_arr\u001b[0m\u001b[1;33m[\u001b[0m\u001b[1;33m:\u001b[0m\u001b[1;33m,\u001b[0m \u001b[0mi\u001b[0m\u001b[1;33m]\u001b[0m\u001b[1;33m,\u001b[0m \u001b[0my_score\u001b[0m\u001b[1;33m[\u001b[0m\u001b[1;33m:\u001b[0m\u001b[1;33m,\u001b[0m \u001b[0mi\u001b[0m\u001b[1;33m]\u001b[0m\u001b[1;33m)\u001b[0m\u001b[1;33m\u001b[0m\u001b[0m\n\u001b[0m\u001b[0;32m     23\u001b[0m     \u001b[1;31m#print(fpr[i], tpr[i])\u001b[0m\u001b[1;33m\u001b[0m\u001b[1;33m\u001b[0m\u001b[0m\n\u001b[0;32m     24\u001b[0m     \u001b[1;31m#roc_auc[i] = auc(fpr[i], tpr[i])\u001b[0m\u001b[1;33m\u001b[0m\u001b[1;33m\u001b[0m\u001b[0m\n",
      "\u001b[1;31mIndexError\u001b[0m: index 217 is out of bounds for axis 1 with size 217"
     ]
    }
   ],
   "source": [
    "# Compute ROC curve and ROC area for each class\n",
    "fpr = dict()\n",
    "tpr = dict()\n",
    "roc_auc = dict()\n",
    "# y_test_arr = [y_test]\n",
    "# y_test_np = np.array(y_test_arr)\n",
    "# y_test_np = y_test_np[np.newaxis]\n",
    "# y_test_np = y_test_np.T\n",
    "\n",
    "print('len(y_test): ',len(y_test))\n",
    "print('y_test_arr.shape: ', y_test_arr.shape)\n",
    "print('type(y_test_arr): ',type(y_test_arr))\n",
    "print('y_test[:10]: ',y_test[:10])\n",
    "\n",
    "print('*' * 80)\n",
    "print('type(y_score): ',type(y_score))\n",
    "print('y_score.shape: ',y_score.shape)\n",
    "\n",
    "# print(y_score.shape[1])\n",
    "\n",
    "#for i in range(len(number_of_class)):\n",
    "    #fpr[i], tpr[i], _ = roc_curve(y_test_arr[:, i], y_score[:, i])\n",
    "    #print(fpr[i], tpr[i])\n",
    "    #roc_auc[i] = auc(fpr[i], tpr[i])\n",
    "\n",
    "\n",
    "\n",
    "y_test_arr = np.asarray(y_test)\n",
    "print(type(y_test_arr), y_test_arr.shape)\n",
    "\n",
    "# fpr, tpr, threshold = roc_curve(y_test_arr, preds)\n",
    "# roc_auc = auc(fpr, tpr)"
   ]
  },
  {
   "cell_type": "code",
   "execution_count": 35,
   "metadata": {},
   "outputs": [
    {
     "name": "stdout",
     "output_type": "stream",
     "text": [
      "================================================================================\n",
      "Random Forest\n",
      "________________________________________________________________________________\n",
      "Training\n",
      "RandomForestClassifier(bootstrap=True, class_weight=None, criterion='gini',\n",
      "            max_depth=None, max_features='auto', max_leaf_nodes=None,\n",
      "            min_impurity_decrease=0.0, min_impurity_split=None,\n",
      "            min_samples_leaf=1, min_samples_split=2,\n",
      "            min_weight_fraction_leaf=0.0, n_estimators=100, n_jobs=1,\n",
      "            oob_score=False, random_state=None, verbose=0,\n",
      "            warm_start=False)\n",
      "Train time: 5.578s\n",
      "Test time: 4.209s\n",
      "accuracy: 0.150\n",
      "\n",
      "================================================================================\n",
      "Decision Tree\n",
      "________________________________________________________________________________\n",
      "Training\n",
      "DecisionTreeClassifier(class_weight=None, criterion='gini', max_depth=None,\n",
      "            max_features=None, max_leaf_nodes=None,\n",
      "            min_impurity_decrease=0.0, min_impurity_split=None,\n",
      "            min_samples_leaf=1, min_samples_split=2,\n",
      "            min_weight_fraction_leaf=0.0, presort=False, random_state=0,\n",
      "            splitter='best')\n",
      "Train time: 0.136s\n",
      "Test time: 0.022s\n",
      "accuracy: 0.150\n",
      "\n",
      "================================================================================\n",
      "L2 penalty\n",
      "________________________________________________________________________________\n",
      "Training\n",
      "SGDClassifier(alpha=0.0001, average=False, class_weight=None, epsilon=0.1,\n",
      "       eta0=0.0, fit_intercept=True, l1_ratio=0.15,\n",
      "       learning_rate='optimal', loss='hinge', max_iter=None, n_iter=50,\n",
      "       n_jobs=1, penalty='l2', power_t=0.5, random_state=None,\n",
      "       shuffle=True, tol=None, verbose=0, warm_start=False)\n"
     ]
    },
    {
     "name": "stderr",
     "output_type": "stream",
     "text": [
      "C:\\Users\\Gurol\\Anaconda3\\envs\\tensorflow-gpu\\lib\\site-packages\\sklearn\\linear_model\\stochastic_gradient.py:117: DeprecationWarning: n_iter parameter is deprecated in 0.19 and will be removed in 0.21. Use max_iter and tol instead.\n",
      "  DeprecationWarning)\n"
     ]
    },
    {
     "name": "stdout",
     "output_type": "stream",
     "text": [
      "Train time: 50.408s\n",
      "Test time: 0.048s\n",
      "accuracy: 0.036\n",
      "\n",
      "================================================================================\n",
      "L1 penalty\n",
      "________________________________________________________________________________\n",
      "Training\n",
      "SGDClassifier(alpha=0.0001, average=False, class_weight=None, epsilon=0.1,\n",
      "       eta0=0.0, fit_intercept=True, l1_ratio=0.15,\n",
      "       learning_rate='optimal', loss='hinge', max_iter=None, n_iter=50,\n",
      "       n_jobs=1, penalty='l1', power_t=0.5, random_state=None,\n",
      "       shuffle=True, tol=None, verbose=0, warm_start=False)\n"
     ]
    },
    {
     "name": "stderr",
     "output_type": "stream",
     "text": [
      "C:\\Users\\Gurol\\Anaconda3\\envs\\tensorflow-gpu\\lib\\site-packages\\sklearn\\linear_model\\stochastic_gradient.py:117: DeprecationWarning: n_iter parameter is deprecated in 0.19 and will be removed in 0.21. Use max_iter and tol instead.\n",
      "  DeprecationWarning)\n"
     ]
    },
    {
     "name": "stdout",
     "output_type": "stream",
     "text": [
      "Train time: 50.916s\n",
      "Test time: 0.040s\n",
      "accuracy: 0.077\n",
      "\n",
      "________________________________________________________________________________\n",
      "Training\n",
      "BernoulliNB(alpha=0.01, binarize=0.0, class_prior=None, fit_prior=True)\n",
      "Train time: 0.354s\n",
      "Test time: 0.032s\n",
      "accuracy: 0.144\n",
      "\n",
      "================================================================================\n",
      "LinearSVC with L1-based feature selection\n",
      "________________________________________________________________________________\n",
      "Training\n",
      "Pipeline(memory=None,\n",
      "     steps=[('feature_selection', SelectFromModel(estimator=LinearSVC(C=1.0, class_weight=None, dual=False, fit_intercept=True,\n",
      "     intercept_scaling=1, loss='squared_hinge', max_iter=1000,\n",
      "     multi_class='ovr', penalty='l1', random_state=None, tol=0.001,\n",
      "     verbose=0),\n",
      "        norm_order=1, prefit=...ax_iter=1000,\n",
      "     multi_class='ovr', penalty='l2', random_state=None, tol=0.0001,\n",
      "     verbose=0))])\n",
      "Train time: 88.230s\n",
      "Test time: 0.043s\n",
      "accuracy: 0.142\n",
      "\n"
     ]
    }
   ],
   "source": [
    "results = []\n",
    "for clf, name in (\n",
    "            #(KNeighborsClassifier(n_neighbors=10), \"kNN\"),\n",
    "            (RandomForestClassifier(n_estimators=100), \"Random Forest\"),\n",
    "            (DecisionTreeClassifier(random_state=0), \"Decision Tree\")):\n",
    "    \n",
    "    print(\"=\" * 80)\n",
    "    print(name)\n",
    "    results.append(benchmark(clf))\n",
    "\n",
    "for penalty in [\"l2\", \"l1\"]:\n",
    "    print('=' * 80)\n",
    "    print(\"%s penalty\" % penalty.upper())\n",
    "    results.append(benchmark(SGDClassifier(alpha=.0001, n_iter=50,penalty=penalty)))\n",
    "\n",
    "results.append(benchmark(BernoulliNB(alpha=.01)))\n",
    "\n",
    "print('=' * 80)\n",
    "print(\"LinearSVC with L1-based feature selection\")\n",
    "# The smaller C, the stronger the regularization.\n",
    "# The more regularization, the more sparsity.\n",
    "results.append(benchmark(Pipeline([\n",
    "  ('feature_selection', SelectFromModel(LinearSVC(penalty=\"l1\", dual=False,\n",
    "                                                  tol=1e-3))),\n",
    "  ('classification', LinearSVC(penalty=\"l2\"))])))\n",
    "\n"
   ]
  },
  {
   "cell_type": "code",
   "execution_count": 36,
   "metadata": {},
   "outputs": [
    {
     "data": {
      "image/png": "[encoded data removed]",
      "text/plain": [
       "<matplotlib.figure.Figure at 0x1fa09316470>"
      ]
     },
     "metadata": {},
     "output_type": "display_data"
    }
   ],
   "source": [
    "indices = np.arange(len(results))\n",
    "\n",
    "results = [[x[i] for x in results] for i in range(4)]\n",
    "\n",
    "clf_names, score, training_time, test_time = results\n",
    "\n",
    "training_time = np.array(training_time) / np.max(training_time)\n",
    "test_time = np.array(test_time) / np.max(test_time)\n",
    "\n",
    "plt.figure(figsize=(12,8))\n",
    "plt.title(\"Score\")\n",
    "plt.barh(indices, score, .2, label=\"score\", color='navy')\n",
    "plt.barh(indices + .3, training_time, .2, label=\"training time\", color='c')\n",
    "plt.barh(indices + .6, test_time, .2, label=\"test time\", color='darkorange')\n",
    "plt.yticks(())\n",
    "plt.legend(loc='best')\n",
    "plt.subplots_adjust(left=.25)\n",
    "plt.subplots_adjust(top=.95)\n",
    "plt.subplots_adjust(bottom=.05)\n",
    "\n",
    "for i, c in zip(indices, clf_names):\n",
    "    plt.text(-.3, i, c)\n",
    "    \n",
    "plt.show()\n"
   ]
  },
  {
   "cell_type": "code",
   "execution_count": null,
   "metadata": {},
   "outputs": [],
   "source": []
  },
  {
   "cell_type": "code",
   "execution_count": null,
   "metadata": {},
   "outputs": [],
   "source": []
  }
 ],
 "metadata": {
  "kernelspec": {
   "display_name": "Python 3",
   "language": "python",
   "name": "python3"
  },
  "language_info": {
   "codemirror_mode": {
    "name": "ipython",
    "version": 3
   },
   "file_extension": ".py",
   "mimetype": "text/x-python",
   "name": "python",
   "nbconvert_exporter": "python",
   "pygments_lexer": "ipython3",
   "version": "3.5.4"
  }
 },
 "nbformat": 4,
 "nbformat_minor": 2
}
