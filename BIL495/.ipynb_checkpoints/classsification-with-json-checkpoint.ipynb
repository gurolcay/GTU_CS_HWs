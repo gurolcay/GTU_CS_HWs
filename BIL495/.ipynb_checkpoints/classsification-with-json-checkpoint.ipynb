{
 "cells": [
  {
   "cell_type": "code",
   "execution_count": 1,
   "metadata": {},
   "outputs": [],
   "source": [
    "# -*- unicode: utf-8 -*-\n",
    "from __future__ import division\n",
    "import os \n",
    "import json\n",
    "import math\n",
    "import codecs\n",
    "import string\n",
    "import matplotlib.pyplot as plt\n",
    "import numpy as np\n",
    "\n",
    "from time import time\n",
    "from sklearn import metrics\n",
    "from sklearn.utils.extmath import density\n",
    "from sklearn.svm import LinearSVC\n",
    "from sklearn.pipeline import Pipeline\n",
    "from sklearn.naive_bayes import BernoulliNB\n",
    "from sklearn.linear_model import SGDClassifier\n",
    "from sklearn.tree import DecisionTreeClassifier\n",
    "from sklearn.neighbors import KNeighborsClassifier\n",
    "from sklearn.ensemble import RandomForestClassifier\n",
    "from sklearn.feature_selection import SelectFromModel\n",
    "from sklearn.feature_extraction.text import TfidfVectorizer\n",
    "from sklearn.model_selection import train_test_split\n",
    "from sklearn.multiclass import OneVsRestClassifier\n",
    "from sklearn.metrics import roc_curve, auc\n",
    "from sklearn import svm\n",
    "from scipy import interp\n",
    "from sklearn.preprocessing import label_binarize"
   ]
  },
  {
   "cell_type": "code",
   "execution_count": 2,
   "metadata": {},
   "outputs": [],
   "source": [
    "if os.name is 'nt':\n",
    "    file_path_delim = '\\\\'\n",
    "    dataset_path = '\\\\dataSets\\\\tweets\\\\tweets_short.json'\n",
    "elif os.name is 'posix':\n",
    "    file_path_delim = '/'\n",
    "    dataset_path = '/dataSets/tweets/tweets_short.json'"
   ]
  },
  {
   "cell_type": "code",
   "execution_count": 3,
   "metadata": {},
   "outputs": [
    {
     "data": {
      "text/plain": [
       "'C:\\\\Users\\\\Gurol\\\\Documents\\\\Lessons\\\\BIL495\\\\Codes\\\\BIL495\\\\dataSets\\\\tweets\\\\tweets_short.json'"
      ]
     },
     "execution_count": 3,
     "metadata": {},
     "output_type": "execute_result"
    }
   ],
   "source": [
    "dataset_path = os.getcwd() + dataset_path\n",
    "\n",
    "tokenizer = lambda doc: doc.lower().split(\" \")\n",
    "\n",
    "dataset_path"
   ]
  },
  {
   "cell_type": "code",
   "execution_count": 4,
   "metadata": {},
   "outputs": [],
   "source": [
    "datas = json.load(open(dataset_path))"
   ]
  },
  {
   "cell_type": "code",
   "execution_count": 5,
   "metadata": {},
   "outputs": [],
   "source": [
    "def read_data(datas):\n",
    "    X = [] # input\n",
    "    y = [] # label\n",
    "\n",
    "    for data in datas:\n",
    "        for key, value in data.items():\n",
    "        #    print(key, 'value: ', value)\n",
    "            if key == \"TextText\":\n",
    "                X.append(value)\n",
    "            elif key == \"UserID\":\n",
    "                y.append(value)\n",
    "        \n",
    "    return X, y"
   ]
  },
  {
   "cell_type": "code",
   "execution_count": 6,
   "metadata": {},
   "outputs": [],
   "source": [
    "X, y = read_data(datas)"
   ]
  },
  {
   "cell_type": "code",
   "execution_count": 7,
   "metadata": {},
   "outputs": [],
   "source": [
    "number_of_class = set(y)"
   ]
  },
  {
   "cell_type": "code",
   "execution_count": 8,
   "metadata": {},
   "outputs": [
    {
     "data": {
      "text/plain": [
       "{'100341775',\n",
       " '1014141614',\n",
       " '1037040092',\n",
       " '103817724',\n",
       " '1058832804',\n",
       " '1061610746',\n",
       " '1079797910',\n",
       " '1151524399',\n",
       " '1152451597',\n",
       " '1257313244',\n",
       " '1278512364',\n",
       " '127963928',\n",
       " '1286632028',\n",
       " '1338800348',\n",
       " '1379981628',\n",
       " '1431324486',\n",
       " '147574230',\n",
       " '148382063',\n",
       " '1499266621',\n",
       " '15016249',\n",
       " '154236788',\n",
       " '155280601',\n",
       " '155534196',\n",
       " '1594078644',\n",
       " '1608521298',\n",
       " '1623755515',\n",
       " '1638649314',\n",
       " '1658471437',\n",
       " '1678245050',\n",
       " '1680532806',\n",
       " '178519812',\n",
       " '182900106',\n",
       " '1829708546',\n",
       " '18426124',\n",
       " '184601733',\n",
       " '1907145728',\n",
       " '1908986682',\n",
       " '206166992',\n",
       " '207060084',\n",
       " '207411389',\n",
       " '212662108',\n",
       " '214364824',\n",
       " '2161351764',\n",
       " '2162910601',\n",
       " '2166179760',\n",
       " '217879240',\n",
       " '219248343',\n",
       " '221140049',\n",
       " '221859669',\n",
       " '2219824690',\n",
       " '2241342374',\n",
       " '225178363',\n",
       " '226586010',\n",
       " '2267933576',\n",
       " '2269362235',\n",
       " '2280957055',\n",
       " '229020623',\n",
       " '230287600',\n",
       " '2302974733',\n",
       " '2306968549',\n",
       " '2312783506',\n",
       " '23186079',\n",
       " '2324335390',\n",
       " '2327218472',\n",
       " '2335496184',\n",
       " '233613812',\n",
       " '238303027',\n",
       " '2424673684',\n",
       " '2520456080',\n",
       " '2547943374',\n",
       " '2583950214',\n",
       " '259791346',\n",
       " '2611772222',\n",
       " '2662417016',\n",
       " '2712990751',\n",
       " '272613386',\n",
       " '2743109408',\n",
       " '2770241249',\n",
       " '2800466851',\n",
       " '283106922',\n",
       " '2862359981',\n",
       " '2867588650',\n",
       " '287727968',\n",
       " '288713989',\n",
       " '289263700',\n",
       " '2897405045',\n",
       " '2960155647',\n",
       " '296406287',\n",
       " '2967462670',\n",
       " '297332485',\n",
       " '299288321',\n",
       " '2994698554',\n",
       " '3001036504',\n",
       " '300422348',\n",
       " '302716201',\n",
       " '305138161',\n",
       " '306927842',\n",
       " '3091746946',\n",
       " '3105384683',\n",
       " '3135219364',\n",
       " '31360793',\n",
       " '314221189',\n",
       " '322061996',\n",
       " '3228821009',\n",
       " '3233892120',\n",
       " '328392658',\n",
       " '329569925',\n",
       " '332371366',\n",
       " '334021205',\n",
       " '3363862253',\n",
       " '336639852',\n",
       " '338713479',\n",
       " '340774582',\n",
       " '345865211',\n",
       " '3529053988',\n",
       " '3587261898',\n",
       " '361409019',\n",
       " '363866141',\n",
       " '3652322656',\n",
       " '365567541',\n",
       " '368002280',\n",
       " '370760737',\n",
       " '371660232',\n",
       " '3780467603',\n",
       " '38508101',\n",
       " '390904005',\n",
       " '39104484',\n",
       " '399618049',\n",
       " '408546169',\n",
       " '408632453',\n",
       " '4106541677',\n",
       " '41442791',\n",
       " '417840334',\n",
       " '421174094',\n",
       " '4241556623',\n",
       " '4242878596',\n",
       " '425819395',\n",
       " '426242792',\n",
       " '4290088573',\n",
       " '431519465',\n",
       " '4327240396',\n",
       " '4546274656',\n",
       " '456187959',\n",
       " '465949901',\n",
       " '471859539',\n",
       " '4827839478',\n",
       " '4856670141',\n",
       " '497735542',\n",
       " '532225643',\n",
       " '540746452',\n",
       " '541651766',\n",
       " '543166036',\n",
       " '544991913',\n",
       " '546840740',\n",
       " '547625189',\n",
       " '55195136',\n",
       " '565848357',\n",
       " '580069274',\n",
       " '581650157',\n",
       " '583863506',\n",
       " '58465695',\n",
       " '58513068',\n",
       " '605871408',\n",
       " '61171559',\n",
       " '61189897',\n",
       " '615234551',\n",
       " '619390325',\n",
       " '621001938',\n",
       " '625828668',\n",
       " '629691879',\n",
       " '68812480',\n",
       " '700397072063795200',\n",
       " '709891082411220992',\n",
       " '710792618595250178',\n",
       " '716197251283042304',\n",
       " '720008181947228162',\n",
       " '720875099184738304',\n",
       " '724819219',\n",
       " '726165738042576898',\n",
       " '731048170877288448',\n",
       " '732590069681393664',\n",
       " '733211897718247426',\n",
       " '737302248338952193',\n",
       " '737418630',\n",
       " '74379696',\n",
       " '747296259715694592',\n",
       " '750412262',\n",
       " '754477875001233408',\n",
       " '755304480',\n",
       " '756307418594902017',\n",
       " '756866324937269249',\n",
       " '757176735158923264',\n",
       " '760134507072786432',\n",
       " '768542424',\n",
       " '769581869990051841',\n",
       " '773834053783056384',\n",
       " '778190287',\n",
       " '779306971581259776',\n",
       " '780367161776861185',\n",
       " '78126385',\n",
       " '794275879719473152',\n",
       " '795344738178265088',\n",
       " '796399666577424384',\n",
       " '808341696715096064',\n",
       " '815573942324838405',\n",
       " '819201027857641472',\n",
       " '826443466649518081',\n",
       " '829741120045342726',\n",
       " '838307023527768064',\n",
       " '847049857',\n",
       " '875668493768810496',\n",
       " '885935938446254080',\n",
       " '888735397',\n",
       " '893488091050250241',\n",
       " '921481224',\n",
       " '95526890',\n",
       " '96568902',\n",
       " '97764700'}"
      ]
     },
     "execution_count": 8,
     "metadata": {},
     "output_type": "execute_result"
    }
   ],
   "source": [
    "number_of_class"
   ]
  },
  {
   "cell_type": "code",
   "execution_count": 9,
   "metadata": {},
   "outputs": [
    {
     "data": {
      "text/plain": [
       "(\"Sn.CB'nımızın çağrısıyla 3 banka konut kredisi faiz oranlarını ℅1'in altına çekti..Bu olumlu bir adım.\\n\\nAncak şişen piyasa nasıl düşecek?\",\n",
       " '154236788')"
      ]
     },
     "execution_count": 9,
     "metadata": {},
     "output_type": "execute_result"
    }
   ],
   "source": [
    "X[1], y[1]"
   ]
  },
  {
   "cell_type": "code",
   "execution_count": 10,
   "metadata": {},
   "outputs": [
    {
     "data": {
      "text/plain": [
       "(93753, 93753)"
      ]
     },
     "execution_count": 10,
     "metadata": {},
     "output_type": "execute_result"
    }
   ],
   "source": [
    "len(X), len(y)"
   ]
  },
  {
   "cell_type": "code",
   "execution_count": 11,
   "metadata": {},
   "outputs": [],
   "source": [
    "# Split test and train data\n",
    "X_train, X_test, y_train, y_test = train_test_split(X, y, test_size=0.2)"
   ]
  },
  {
   "cell_type": "code",
   "execution_count": 12,
   "metadata": {},
   "outputs": [],
   "source": [
    "y_label = []\n",
    "for index in range(1,len(number_of_class)):\n",
    "    y_label.append(index)\n"
   ]
  },
  {
   "cell_type": "code",
   "execution_count": 13,
   "metadata": {},
   "outputs": [
    {
     "data": {
      "text/plain": [
       "(217, 1, 217)"
      ]
     },
     "execution_count": 13,
     "metadata": {},
     "output_type": "execute_result"
    }
   ],
   "source": [
    "len(y_label), y_label[0], y_label[216]"
   ]
  },
  {
   "cell_type": "code",
   "execution_count": 14,
   "metadata": {},
   "outputs": [],
   "source": [
    "# Feature extraction: create feature vector\n",
    "vectorizer = TfidfVectorizer(norm='l2', min_df=0.05, use_idf=True, smooth_idf=False, sublinear_tf=True,tokenizer=tokenizer)"
   ]
  },
  {
   "cell_type": "code",
   "execution_count": 15,
   "metadata": {},
   "outputs": [
    {
     "data": {
      "text/plain": [
       "('X_train duration time: ', 1.8770713806152344)"
      ]
     },
     "execution_count": 15,
     "metadata": {},
     "output_type": "execute_result"
    }
   ],
   "source": [
    "# Extracting features from the training data using a sparse vectorizer\n",
    "t0 = time()\n",
    "X_train = vectorizer.fit_transform(X_train)\n",
    "duration = time() - t0\n",
    "\n",
    "'X_train duration time: ', duration"
   ]
  },
  {
   "cell_type": "code",
   "execution_count": 16,
   "metadata": {},
   "outputs": [
    {
     "data": {
      "text/plain": [
       "('X_test duration time: ', 0.21967220306396484)"
      ]
     },
     "execution_count": 16,
     "metadata": {},
     "output_type": "execute_result"
    }
   ],
   "source": [
    "# Extracting features from the test data using the same vectorizer\n",
    "t0 = time()\n",
    "X_test = vectorizer.transform(X_test)\n",
    "duration = time() - t0\n",
    "\n",
    "'X_test duration time: ', duration"
   ]
  },
  {
   "cell_type": "code",
   "execution_count": 17,
   "metadata": {},
   "outputs": [
    {
     "data": {
      "text/plain": [
       "75002"
      ]
     },
     "execution_count": 17,
     "metadata": {},
     "output_type": "execute_result"
    }
   ],
   "source": [
    "len(y_train)"
   ]
  },
  {
   "cell_type": "code",
   "execution_count": 18,
   "metadata": {},
   "outputs": [
    {
     "data": {
      "text/plain": [
       "18751"
      ]
     },
     "execution_count": 18,
     "metadata": {},
     "output_type": "execute_result"
    }
   ],
   "source": [
    "len(y_test)"
   ]
  },
  {
   "cell_type": "code",
   "execution_count": 28,
   "metadata": {},
   "outputs": [
    {
     "data": {
      "text/plain": [
       "array([[1, 0, 0, ..., 0, 0, 0],\n",
       "       [0, 1, 0, ..., 0, 0, 1],\n",
       "       [0, 0, 1, ..., 0, 0, 0],\n",
       "       ..., \n",
       "       [0, 0, 0, ..., 1, 1, 0],\n",
       "       [0, 0, 0, ..., 1, 1, 0],\n",
       "       [0, 1, 0, ..., 0, 0, 1]])"
      ]
     },
     "execution_count": 28,
     "metadata": {},
     "output_type": "execute_result"
    }
   ],
   "source": [
    "y_test_arr = label_binarize(y_test, classes=y_test)\n",
    "y_test_arr"
   ]
  },
  {
   "cell_type": "code",
   "execution_count": 29,
   "metadata": {},
   "outputs": [
    {
     "data": {
      "text/plain": [
       "array([1, 0, 0, ..., 0, 0, 0])"
      ]
     },
     "execution_count": 29,
     "metadata": {},
     "output_type": "execute_result"
    }
   ],
   "source": [
    "y_test_arr[0]"
   ]
  },
  {
   "cell_type": "code",
   "execution_count": 19,
   "metadata": {},
   "outputs": [],
   "source": [
    "def benchmark(clf):\n",
    "    print('_' * 80)\n",
    "    print('Training')\n",
    "    print(clf)\n",
    "    t0 = time()\n",
    "    clf.fit(X_train, y_train)\n",
    "    train_time = time() - t0\n",
    "    print('Train time: %0.3fs' % train_time)\n",
    "    \n",
    "    t0 = time()\n",
    "    pred = clf.predict(X_test)\n",
    "    test_time = time() - t0\n",
    "    print('Test time: %0.3fs' % test_time)\n",
    "    \n",
    "    score = metrics.accuracy_score(y_test, pred)\n",
    "    print('accuracy: %0.3f' % score)\n",
    "\n",
    "    print()\n",
    "    clf_descr = str(clf).split('(')[0]\n",
    "    return clf_descr, score, train_time, test_time"
   ]
  },
  {
   "cell_type": "code",
   "execution_count": 30,
   "metadata": {},
   "outputs": [],
   "source": [
    "# Learn to predict each class against the other\n",
    "classifier = OneVsRestClassifier(svm.SVC(kernel='poly', probability=True))\n",
    "# classifier = svm.SVC(kernel='rbf', probability=True)"
   ]
  },
  {
   "cell_type": "code",
   "execution_count": 31,
   "metadata": {},
   "outputs": [
    {
     "data": {
      "text/plain": [
       "(18751, 7)"
      ]
     },
     "execution_count": 31,
     "metadata": {},
     "output_type": "execute_result"
    }
   ],
   "source": [
    "X_test.shape"
   ]
  },
  {
   "cell_type": "code",
   "execution_count": 32,
   "metadata": {},
   "outputs": [
    {
     "name": "stdout",
     "output_type": "stream",
     "text": [
      "Train time: 2172.913s\n",
      "<class 'sklearn.multiclass.OneVsRestClassifier'>\n",
      "\n",
      "Test time: 53.622s\n",
      "accuracy: 0.026\n"
     ]
    }
   ],
   "source": [
    "# t0 = time()\n",
    "# y_score = classifier.fit(X_train, y_train).decision_function(X_test)\n",
    "# fit_time = time() - t0\n",
    "# fit_time\n",
    "\n",
    "\n",
    "t0 = time()\n",
    "model = classifier.fit(X_train, y_train)\n",
    "fit_time = time() - t0\n",
    "print('Train time: %0.3fs' % fit_time)\n",
    "print(type(model))\n",
    "\n",
    "y_score = model.decision_function(X_test)\n",
    "print()\n",
    "t0 = time()\n",
    "preds = model.predict(X_test)\n",
    "test_time = time() - t0\n",
    "print('Test time: %0.3fs' % test_time)\n",
    "\n",
    "score = metrics.accuracy_score(y_test, preds)\n",
    "print('accuracy: %0.03f' % score) \n",
    "\n",
    "\n",
    "# t0 = time()\n",
    "# y_score = classifier.fit(X_train, y_train)\n",
    "\n",
    "# probs = classifier.predict_proba(X_test)\n",
    "# preds = probs[:, 1]\n",
    "\n",
    "# fit_time = time() - t0\n",
    "# fit_time"
   ]
  },
  {
   "cell_type": "code",
   "execution_count": 25,
   "metadata": {},
   "outputs": [
    {
     "ename": "NameError",
     "evalue": "name 'y_score' is not defined",
     "output_type": "error",
     "traceback": [
      "\u001b[1;31m---------------------------------------------------------------------------\u001b[0m",
      "\u001b[1;31mNameError\u001b[0m                                 Traceback (most recent call last)",
      "\u001b[1;32m<ipython-input-25-0bd0f6db5775>\u001b[0m in \u001b[0;36m<module>\u001b[1;34m()\u001b[0m\n\u001b[1;32m----> 1\u001b[1;33m \u001b[0mtype\u001b[0m\u001b[1;33m(\u001b[0m\u001b[0my_test\u001b[0m\u001b[1;33m)\u001b[0m\u001b[1;33m,\u001b[0m \u001b[0mtype\u001b[0m\u001b[1;33m(\u001b[0m\u001b[0my_score\u001b[0m\u001b[1;33m)\u001b[0m \u001b[1;31m#type(preds)\u001b[0m\u001b[1;33m\u001b[0m\u001b[0m\n\u001b[0m",
      "\u001b[1;31mNameError\u001b[0m: name 'y_score' is not defined"
     ]
    }
   ],
   "source": [
    "type(y_test), type(y_score) #type(preds)"
   ]
  },
  {
   "cell_type": "code",
   "execution_count": null,
   "metadata": {},
   "outputs": [],
   "source": [
    "y_test[0]"
   ]
  },
  {
   "cell_type": "code",
   "execution_count": null,
   "metadata": {},
   "outputs": [],
   "source": [
    "y_score[0]"
   ]
  },
  {
   "cell_type": "code",
   "execution_count": null,
   "metadata": {},
   "outputs": [],
   "source": [
    "y_test_arr[218], y_test_arr.shape"
   ]
  },
  {
   "cell_type": "code",
   "execution_count": null,
   "metadata": {
    "scrolled": true
   },
   "outputs": [],
   "source": [
    "# Compute ROC curve and ROC area for each class\n",
    "fpr = dict()\n",
    "tpr = dict()\n",
    "roc_auc = dict()\n",
    "# y_test_arr = [y_test]\n",
    "# y_test_np = np.array(y_test_arr)\n",
    "# y_test_np = y_test_np[np.newaxis]\n",
    "# y_test_np = y_test_np.T\n",
    "\n",
    "print('len(y_test): ',len(y_test))\n",
    "print('y_test_arr.shape: ', y_test_arr.shape)\n",
    "print('type(y_test_arr): ',type(y_test_arr))\n",
    "print('y_test[:10]: ',y_test[:10])\n",
    "\n",
    "print('*' * 80)\n",
    "print('type(y_score): ',type(y_score))\n",
    "print('y_score.shape: ',y_score.shape)\n",
    "\n",
    "# print(y_score.shape[1])\n",
    "\n",
    "for i in range(len(number_of_class)):\n",
    "    fpr[i], tpr[i], _ = roc_curve(y_test_arr[:, i], y_score[:, i])\n",
    "    #print(fpr[i], tpr[i])\n",
    "    #roc_auc[i] = auc(fpr[i], tpr[i])\n",
    "\n",
    "\n",
    "\n",
    "# y_test_arr = np.asarray(y_test)\n",
    "# print(type(y_test_arr), y_test_arr.shape)\n",
    "\n",
    "# fpr, tpr, threshold = roc_curve(y_test_arr, preds)\n",
    "# roc_auc = auc(fpr, tpr)"
   ]
  },
  {
   "cell_type": "code",
   "execution_count": null,
   "metadata": {},
   "outputs": [],
   "source": [
    "results = []\n",
    "for clf, name in (\n",
    "            #(KNeighborsClassifier(n_neighbors=10), \"kNN\"),\n",
    "            (RandomForestClassifier(n_estimators=100), \"Random Forest\"),\n",
    "            (DecisionTreeClassifier(random_state=0), \"Decision Tree\")):\n",
    "    \n",
    "    print(\"=\" * 80)\n",
    "    print(name)\n",
    "    results.append(benchmark(clf))\n",
    "\n",
    "for penalty in [\"l2\", \"l1\"]:\n",
    "    print('=' * 80)\n",
    "    print(\"%s penalty\" % penalty.upper())\n",
    "    results.append(benchmark(SGDClassifier(alpha=.0001, n_iter=50,penalty=penalty)))\n",
    "\n",
    "results.append(benchmark(BernoulliNB(alpha=.01)))\n",
    "\n",
    "print('=' * 80)\n",
    "print(\"LinearSVC with L1-based feature selection\")\n",
    "# The smaller C, the stronger the regularization.\n",
    "# The more regularization, the more sparsity.\n",
    "results.append(benchmark(Pipeline([\n",
    "  ('feature_selection', SelectFromModel(LinearSVC(penalty=\"l1\", dual=False,\n",
    "                                                  tol=1e-3))),\n",
    "  ('classification', LinearSVC(penalty=\"l2\"))])))\n",
    "\n"
   ]
  },
  {
   "cell_type": "code",
   "execution_count": null,
   "metadata": {},
   "outputs": [],
   "source": [
    "indices = np.arange(len(results))\n",
    "\n",
    "results = [[x[i] for x in results] for i in range(4)]\n",
    "\n",
    "clf_names, score, training_time, test_time = results\n",
    "\n",
    "training_time = np.array(training_time) / np.max(training_time)\n",
    "test_time = np.array(test_time) / np.max(test_time)\n",
    "\n",
    "plt.figure(figsize=(12,8))\n",
    "plt.title(\"Score\")\n",
    "plt.barh(indices, score, .2, label=\"score\", color='navy')\n",
    "plt.barh(indices + .3, training_time, .2, label=\"training time\", color='c')\n",
    "plt.barh(indices + .6, test_time, .2, label=\"test time\", color='darkorange')\n",
    "plt.yticks(())\n",
    "plt.legend(loc='best')\n",
    "plt.subplots_adjust(left=.25)\n",
    "plt.subplots_adjust(top=.95)\n",
    "plt.subplots_adjust(bottom=.05)\n",
    "\n",
    "for i, c in zip(indices, clf_names):\n",
    "    plt.text(-.3, i, c)\n",
    "    \n",
    "plt.show()\n"
   ]
  },
  {
   "cell_type": "code",
   "execution_count": null,
   "metadata": {},
   "outputs": [],
   "source": []
  },
  {
   "cell_type": "code",
   "execution_count": null,
   "metadata": {},
   "outputs": [],
   "source": []
  }
 ],
 "metadata": {
  "kernelspec": {
   "display_name": "Python 3",
   "language": "python",
   "name": "python3"
  },
  "language_info": {
   "codemirror_mode": {
    "name": "ipython",
    "version": 3
   },
   "file_extension": ".py",
   "mimetype": "text/x-python",
   "name": "python",
   "nbconvert_exporter": "python",
   "pygments_lexer": "ipython3",
   "version": "3.6.3"
  }
 },
 "nbformat": 4,
 "nbformat_minor": 2
}
